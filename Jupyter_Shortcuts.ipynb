{
 "cells": [
  {
   "cell_type": "markdown",
   "id": "b99dbd0d",
   "metadata": {},
   "source": [
    "## Shortcuts and Text Formatting Jupyter Notebook"
   ]
  },
  {
   "attachments": {
    "image-2.png": {
     "image/png": "[encoded data removed]"
    },
    "image-3.png": {
     "image/png": "[encoded data removed]"
    }
   },
   "cell_type": "markdown",
   "id": "607db6b0",
   "metadata": {},
   "source": [
    "### Command Mode and Edit mode\n",
    "\n",
    "In Command Mode, there's a gray border with a blue bar, whereas in Edit Mode, there's a blinking cursor and a green border:\n",
    "\n",
    "Command mode:\n",
    "<br>![image-2.png](attachment:image-2.png)\n",
    "<br>Edit mode:\n",
    "<br>![image-3.png](attachment:image-3.png)\n",
    "\n",
    "\n",
    "How to switch modes:\n",
    "<br>`Esc`: Switch to Command Mode\n",
    "<br>`Enter`: Switch to Edit Mode"
   ]
  },
  {
   "cell_type": "markdown",
   "id": "6046212c",
   "metadata": {},
   "source": [
    "<br>\n",
    "\n",
    "***\n",
    "Shortcuts in both modes:\n",
    "***\n",
    "\n",
    "<br>`Shift + Enter` run the current cell, select below\n",
    "<br>`Ctrl + Enter` run selected cells\n",
    "<br>`Alt + Enter` run the current cell, insert below\n",
    "<br>`Ctrl + S` save and checkpoint"
   ]
  },
  {
   "cell_type": "markdown",
   "id": "c97a6365",
   "metadata": {},
   "source": [
    "<br>\n",
    "\n",
    "***\n",
    "While in command mode (press `Esc` to activate):\n",
    "***\n",
    "<br>`Enter` take you into edit mode\n",
    "<br>`H` show all shortcuts\n",
    "<br>`Up` select cell above\n",
    "<br>`Down` select cell below\n",
    "<br>`Shift + Up` extend selected cells above\n",
    "<br>`Shift + Down` extend selected cells below\n",
    "<br>`A` insert cell above\n",
    "<br>`B` insert cell below\n",
    "<br>`O` Toggle between hiding and showing the output for selected code cells. This is useful when the output is taking up too much of your screen\n",
    "<br>`X` cut selected cells\n",
    "<br>`C` copy selected cells\n",
    "<br>`V` paste cells below\n",
    "<br>`Shift + V` paste cells above\n",
    "<br>`D, D (press the key twice)` delete selected cells\n",
    "<br>`Z` undo cell deletion\n",
    "<br>`S` Save and Checkpoint\n",
    "<br>`Y` change the cell type to Code\n",
    "<br>`M` change the cell type to Markdown\n",
    "<br>`P` open the command palette\n",
    "<br>`Shift + Space` scroll notebook up\n",
    "<br>`Space` scroll notebook down"
   ]
  },
  {
   "cell_type": "markdown",
   "id": "bfec01a4",
   "metadata": {},
   "source": [
    "\n",
    "***\n",
    "While in edit mode (press `Enter` to activate)\n",
    "***\n",
    "\n",
    "`Esc` take you into command mode\n",
    "<br>`Tab` code completion or indent\n",
    "<br>`Shift + Tab` tooltip\n",
    "<br>`Ctrl + ]` indent\n",
    "<br>`Ctrl + [` dedent\n",
    "<br>`Ctrl + A` select all\n",
    "<br>`Ctrl + Z` undo\n",
    "<br>`Ctrl + Shift + -` Split the current cell at the cursor\n",
    "<br>`Ctrl + Shift + Z` or `Ctrl + Y` redo\n",
    "<br>`Ctrl + Home` go to cell start\n",
    "<br>`Ctrl + End` go to cell end\n",
    "<br>`Ctrl + Left` go one word left\n",
    "<br>`Ctrl + Right` go one word right\n",
    "<br>`Ctrl + Shift + P` open the command palette\n",
    "<br>`Down` move cursor down\n",
    "<br>`Up` move cursor up\n",
    "<br>`Hold down Alt, then click your mouse and drag up or down` This allows you to edit multiple lines at once."
   ]
  },
  {
   "cell_type": "markdown",
   "id": "dbd1c86f",
   "metadata": {},
   "source": [
    "<br><br>\n",
    "***\n",
    "### Text Formating in Markdown mode\n",
    "***"
   ]
  },
  {
   "cell_type": "markdown",
   "id": "941eb99f",
   "metadata": {},
   "source": [
    "#### Section Headers\n",
    "\n",
    "`# Heading One`\n",
    "\n",
    "`## Heading Two`\n",
    "\n",
    "`### Heading Three`\n",
    "\n",
    "`#### Heading Four`"
   ]
  },
  {
   "cell_type": "markdown",
   "id": "6af65fc0",
   "metadata": {},
   "source": [
    "#### Lists\n",
    "\n",
    "\n",
    "`* This is a bullet list`\n",
    "<br>`* This is a bullet list`\n",
    "<br>`* This is a bullet list`\n",
    "\n",
    "<br>or\n",
    "\n",
    "<br>`1. And you can also create ordered lists`\n",
    "<br>`2. by using numbers`\n",
    "<br>`3. and listing new items in the lists` \n",
    "<br>`4. on their own lines`"
   ]
  },
  {
   "cell_type": "markdown",
   "id": "29b9ec82",
   "metadata": {},
   "source": [
    "#### Bold and Italicize\n",
    "\n",
    "`*These are italicized words, not a bullet list*`\n",
    "<br>`**These are bold words, not a bullet list**`\n",
    "\n",
    "<br>`* **This is a bullet item with bold words**`\n",
    "<br>`* *This is a bullet item with italicized words*`"
   ]
  },
  {
   "cell_type": "markdown",
   "id": "94733752",
   "metadata": {},
   "source": [
    "#### Highlight code/text\n",
    "\n",
    "``` `This is highlighted code/text` ```"
   ]
  },
  {
   "cell_type": "markdown",
   "id": "054fa7a2",
   "metadata": {},
   "source": [
    "#### Hyperlink\n",
    "\n",
    "`<a href=\"url\" target=\"_blank\">hyperlinked_words</a>`\n",
    "\n",
    "<br>Here `hyperlinked_words` will be rendered as the hyperlinked word"
   ]
  },
  {
   "cell_type": "markdown",
   "id": "efc7b1f7",
   "metadata": {},
   "source": [
    "#### Render Image\n",
    "\n",
    "`![alt text here](url-to-image-here)`\n",
    "<br>\n",
    "<br>Local Images Using Relative Computer Paths:\n",
    "<br>`![alt text here](path-to-image-here)`"
   ]
  }
 ],
 "metadata": {
  "kernelspec": {
   "display_name": "Python 3 (ipykernel)",
   "language": "python",
   "name": "python3"
  },
  "language_info": {
   "codemirror_mode": {
    "name": "ipython",
    "version": 3
   },
   "file_extension": ".py",
   "mimetype": "text/x-python",
   "name": "python",
   "nbconvert_exporter": "python",
   "pygments_lexer": "ipython3",
   "version": "3.11.5"
  }
 },
 "nbformat": 4,
 "nbformat_minor": 5
}
